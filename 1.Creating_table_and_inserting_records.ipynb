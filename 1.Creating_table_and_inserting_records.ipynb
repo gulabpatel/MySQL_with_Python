{
  "nbformat": 4,
  "nbformat_minor": 0,
  "metadata": {
    "colab": {
      "name": "Creating_table_and_inserting_records.ipynb",
      "provenance": [],
      "authorship_tag": "ABX9TyNHUHKdI6E/NWiqpIIPlqdI"
    },
    "kernelspec": {
      "name": "python3",
      "display_name": "Python 3"
    },
    "language_info": {
      "name": "python"
    }
  },
  "cells": [
    {
      "cell_type": "markdown",
      "metadata": {
        "id": "gCK0V67no7wL"
      },
      "source": [
        "**Creating Tables And Inserting Records**"
      ]
    },
    {
      "cell_type": "code",
      "metadata": {
        "id": "ZFlPivVwgqrj"
      },
      "source": [
        "### Create MySQL Connection And Connect\n",
        "import mysql.connector as sql\n",
        "\n",
        "connection = sql.connect(\n",
        "  host=\"localhost\",\n",
        "  user=\"root\",\n",
        "  password=\"12345\",\n",
        "  database=\"student\"     ##this is to connect with a particular database\n",
        ")\n",
        "\n",
        "print(connection)"
      ],
      "execution_count": null,
      "outputs": []
    },
    {
      "cell_type": "markdown",
      "metadata": {
        "id": "wT1xwUDjo33C"
      },
      "source": [
        "#Create Table In MySQL using Python"
      ]
    },
    {
      "cell_type": "code",
      "metadata": {
        "id": "wjayVUv-pBJR"
      },
      "source": [
        "cursor = connection.cursor()\n",
        "\n",
        "cursor.execute(\"CREATE TABLE studentinfo (id INT AUTO_INCREMENT PRIMARY KEY, name VARCHAR(255), subject VARCHAR(255))\")"
      ],
      "execution_count": null,
      "outputs": []
    },
    {
      "cell_type": "markdown",
      "metadata": {
        "id": "Wt7yj5cgpF0Y"
      },
      "source": [
        "**Insert Records in Table**"
      ]
    },
    {
      "cell_type": "code",
      "metadata": {
        "id": "9YorpJaRpCzg"
      },
      "source": [
        "query = \"INSERT INTO studentinfo (name, subject) VALUES (%s, %s)\"\n",
        "value = (\"John\", \"Stats\")\n",
        "cursor.execute(query,value)\n",
        "print(\"Row inserted\",cursor.lastrowid)"
      ],
      "execution_count": null,
      "outputs": []
    },
    {
      "cell_type": "code",
      "metadata": {
        "id": "0K8XqPIGpCwh"
      },
      "source": [
        "query = \"INSERT INTO studentinfo (name, subject) VALUES (%s, %s)\"\n",
        "values = [(\"Krish\", \"Stats\"),\n",
        "        (\"Joe\", \"Maths\"),\n",
        "        (\"Ankur\",\"Data Science\"),\n",
        "        (\"Paul\",\"Data Science\"),\n",
        "        (\"Vishal\",\"Maths\"),\n",
        "        (\"Krish\",\"Data Science\")]\n",
        "cursor.executemany(query,values)    ##executemany to insert more than one records\n",
        "print(\"Row inserted\",cursor.lastrowid)"
      ],
      "execution_count": null,
      "outputs": []
    },
    {
      "cell_type": "markdown",
      "metadata": {
        "id": "CIAW24AhpOI1"
      },
      "source": [
        "**Select All**"
      ]
    },
    {
      "cell_type": "code",
      "metadata": {
        "id": "6efhJoDjpCtQ"
      },
      "source": [
        "cursor = connection.cursor()\n",
        "cursor.execute(\"Select * from studentinfo\")"
      ],
      "execution_count": null,
      "outputs": []
    },
    {
      "cell_type": "code",
      "metadata": {
        "id": "2PkOj22ZpUi5"
      },
      "source": [
        "### Fetch All the Data\n",
        "cursor.fetchall()"
      ],
      "execution_count": null,
      "outputs": []
    },
    {
      "cell_type": "code",
      "metadata": {
        "id": "8-3RaPUspWqF"
      },
      "source": [
        "### Fetch One Record At A time\n",
        "cursor.fetchone()"
      ],
      "execution_count": null,
      "outputs": []
    },
    {
      "cell_type": "code",
      "metadata": {
        "id": "lYJktiTEpY0U"
      },
      "source": [
        "lst=cursor.fetchall()"
      ],
      "execution_count": null,
      "outputs": []
    },
    {
      "cell_type": "code",
      "metadata": {
        "id": "NfRX0s32pYtg"
      },
      "source": [
        "for records in lst:\n",
        "    print(records)"
      ],
      "execution_count": null,
      "outputs": []
    },
    {
      "cell_type": "code",
      "metadata": {
        "id": "yjUO4YBWpYoZ"
      },
      "source": [
        "cursor.execute(\"Select * from studentinfo where name='thor'\")"
      ],
      "execution_count": null,
      "outputs": []
    },
    {
      "cell_type": "code",
      "metadata": {
        "id": "7R76rx-wpn71"
      },
      "source": [
        "### Fetch All the Data\n",
        "cursor.fetchall()"
      ],
      "execution_count": null,
      "outputs": []
    },
    {
      "cell_type": "markdown",
      "metadata": {
        "id": "rZYO_ILtpsvY"
      },
      "source": [
        "**Select Particular Columns**"
      ]
    },
    {
      "cell_type": "code",
      "metadata": {
        "id": "Dqge73vVpvxt"
      },
      "source": [
        "cursor.execute(\"Select subject from studentinfo\")\n",
        "#### Fetch All\n",
        "cursor.fetchall()"
      ],
      "execution_count": null,
      "outputs": []
    },
    {
      "cell_type": "code",
      "metadata": {
        "id": "HW2LLKSkpyV7"
      },
      "source": [
        "## Select Distinct Columns\n",
        "cursor.execute(\"SELECT DISTINCT subject from studentinfo\")\n",
        "#### Fetch All\n",
        "cursor.fetchall()"
      ],
      "execution_count": null,
      "outputs": []
    },
    {
      "cell_type": "code",
      "metadata": {
        "id": "fi5fXIgOp2ab"
      },
      "source": [
        "cursor.execute(\"SELECT name, subject FROM studentinfo WHERE name = 'Krish' OR subject = 'Data Science'\") \n",
        "#### Fetch All\n",
        "cursor.fetchall()"
      ],
      "execution_count": null,
      "outputs": []
    },
    {
      "cell_type": "markdown",
      "metadata": {
        "id": "eklhqdKwp4up"
      },
      "source": [
        "**Drop Table**"
      ]
    },
    {
      "cell_type": "code",
      "metadata": {
        "id": "2zjdqQH3p6a7"
      },
      "source": [
        "cursor.execute(\"DROP TABLE studentinfo\")"
      ],
      "execution_count": null,
      "outputs": []
    }
  ]
}